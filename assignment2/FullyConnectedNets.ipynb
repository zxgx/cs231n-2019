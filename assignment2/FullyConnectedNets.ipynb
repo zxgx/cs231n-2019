{
 "cells": [
  {
   "cell_type": "markdown",
   "metadata": {
    "tags": [
     "pdf-title"
    ]
   },
   "source": [
    "# Fully-Connected Neural Nets\n",
    "In the previous homework you implemented a fully-connected two-layer neural network on CIFAR-10. The implementation was simple but not very modular since the loss and gradient were computed in a single monolithic function. This is manageable for a simple two-layer network, but would become impractical as we move to bigger models. Ideally we want to build networks using a more modular design so that we can implement different layer types in isolation and then snap them together into models with different architectures."
   ]
  },
  {
   "cell_type": "markdown",
   "metadata": {
    "tags": [
     "pdf-ignore"
    ]
   },
   "source": [
    "In this exercise we will implement fully-connected networks using a more modular approach. For each layer we will implement a `forward` and a `backward` function. The `forward` function will receive inputs, weights, and other parameters and will return both an output and a `cache` object storing data needed for the backward pass, like this:\n",
    "\n",
    "```python\n",
    "def layer_forward(x, w):\n",
    "  \"\"\" Receive inputs x and weights w \"\"\"\n",
    "  # Do some computations ...\n",
    "  z = # ... some intermediate value\n",
    "  # Do some more computations ...\n",
    "  out = # the output\n",
    "   \n",
    "  cache = (x, w, z, out) # Values we need to compute gradients\n",
    "   \n",
    "  return out, cache\n",
    "```\n",
    "\n",
    "The backward pass will receive upstream derivatives and the `cache` object, and will return gradients with respect to the inputs and weights, like this:\n",
    "\n",
    "```python\n",
    "def layer_backward(dout, cache):\n",
    "  \"\"\"\n",
    "  Receive dout (derivative of loss with respect to outputs) and cache,\n",
    "  and compute derivative with respect to inputs.\n",
    "  \"\"\"\n",
    "  # Unpack cache values\n",
    "  x, w, z, out = cache\n",
    "  \n",
    "  # Use values in cache to compute derivatives\n",
    "  dx = # Derivative of loss with respect to x\n",
    "  dw = # Derivative of loss with respect to w\n",
    "  \n",
    "  return dx, dw\n",
    "```\n",
    "\n",
    "After implementing a bunch of layers this way, we will be able to easily combine them to build classifiers with different architectures.\n",
    "\n",
    "In addition to implementing fully-connected networks of arbitrary depth, we will also explore different update rules for optimization, and introduce Dropout as a regularizer and Batch/Layer Normalization as a tool to more efficiently optimize deep networks.\n",
    "  "
   ]
  },
  {
   "cell_type": "code",
   "execution_count": 1,
   "metadata": {
    "tags": [
     "pdf-ignore"
    ]
   },
   "outputs": [],
   "source": [
    "# As usual, a bit of setup\n",
    "from __future__ import print_function\n",
    "import time\n",
    "import numpy as np\n",
    "import matplotlib.pyplot as plt\n",
    "from cs231n.classifiers.fc_net import *\n",
    "from cs231n.data_utils import get_CIFAR10_data\n",
    "from cs231n.gradient_check import eval_numerical_gradient, eval_numerical_gradient_array\n",
    "from cs231n.solver import Solver\n",
    "\n",
    "%matplotlib inline\n",
    "plt.rcParams['figure.figsize'] = (10.0, 8.0) # set default size of plots\n",
    "plt.rcParams['image.interpolation'] = 'nearest'\n",
    "plt.rcParams['image.cmap'] = 'gray'\n",
    "\n",
    "# for auto-reloading external modules\n",
    "# see http://stackoverflow.com/questions/1907993/autoreload-of-modules-in-ipython\n",
    "%load_ext autoreload\n",
    "%autoreload 2\n",
    "\n",
    "def rel_error(x, y):\n",
    "  \"\"\" returns relative error \"\"\"\n",
    "  return np.max(np.abs(x - y) / (np.maximum(1e-8, np.abs(x) + np.abs(y))))"
   ]
  },
  {
   "cell_type": "code",
   "execution_count": 2,
   "metadata": {
    "tags": [
     "pdf-ignore"
    ]
   },
   "outputs": [
    {
     "name": "stdout",
     "output_type": "stream",
     "text": [
      "('X_train: ', (49000, 3, 32, 32))\n",
      "('y_train: ', (49000,))\n",
      "('X_val: ', (1000, 3, 32, 32))\n",
      "('y_val: ', (1000,))\n",
      "('X_test: ', (1000, 3, 32, 32))\n",
      "('y_test: ', (1000,))\n"
     ]
    }
   ],
   "source": [
    "# Load the (preprocessed) CIFAR10 data.\n",
    "\n",
    "data = get_CIFAR10_data()\n",
    "for k, v in list(data.items()):\n",
    "  print(('%s: ' % k, v.shape))"
   ]
  },
  {
   "cell_type": "markdown",
   "metadata": {},
   "source": [
    "# Affine layer: foward\n",
    "Open the file `cs231n/layers.py` and implement the `affine_forward` function.\n",
    "\n",
    "Once you are done you can test your implementaion by running the following:"
   ]
  },
  {
   "cell_type": "code",
   "execution_count": 3,
   "metadata": {},
   "outputs": [
    {
     "name": "stdout",
     "output_type": "stream",
     "text": [
      "Testing affine_forward function:\n",
      "difference:  9.769849468192957e-10\n"
     ]
    }
   ],
   "source": [
    "# Test the affine_forward function\n",
    "\n",
    "num_inputs = 2\n",
    "input_shape = (4, 5, 6)\n",
    "output_dim = 3\n",
    "\n",
    "input_size = num_inputs * np.prod(input_shape)\n",
    "weight_size = output_dim * np.prod(input_shape)\n",
    "\n",
    "x = np.linspace(-0.1, 0.5, num=input_size).reshape(num_inputs, *input_shape)\n",
    "w = np.linspace(-0.2, 0.3, num=weight_size).reshape(np.prod(input_shape), output_dim)\n",
    "b = np.linspace(-0.3, 0.1, num=output_dim)\n",
    "\n",
    "out, _ = affine_forward(x, w, b)\n",
    "correct_out = np.array([[ 1.49834967,  1.70660132,  1.91485297],\n",
    "                        [ 3.25553199,  3.5141327,   3.77273342]])\n",
    "\n",
    "# Compare your output with ours. The error should be around e-9 or less.\n",
    "print('Testing affine_forward function:')\n",
    "print('difference: ', rel_error(out, correct_out))"
   ]
  },
  {
   "cell_type": "markdown",
   "metadata": {},
   "source": [
    "# Affine layer: backward\n",
    "Now implement the `affine_backward` function and test your implementation using numeric gradient checking."
   ]
  },
  {
   "cell_type": "code",
   "execution_count": 4,
   "metadata": {},
   "outputs": [
    {
     "name": "stdout",
     "output_type": "stream",
     "text": [
      "Testing affine_backward function:\n",
      "dx error:  5.399100368651805e-11\n",
      "dw error:  9.904211865398145e-11\n",
      "db error:  2.4122867568119087e-11\n"
     ]
    }
   ],
   "source": [
    "# Test the affine_backward function\n",
    "np.random.seed(231)\n",
    "x = np.random.randn(10, 2, 3)\n",
    "w = np.random.randn(6, 5)\n",
    "b = np.random.randn(5)\n",
    "dout = np.random.randn(10, 5)\n",
    "\n",
    "dx_num = eval_numerical_gradient_array(lambda x: affine_forward(x, w, b)[0], x, dout)\n",
    "dw_num = eval_numerical_gradient_array(lambda w: affine_forward(x, w, b)[0], w, dout)\n",
    "db_num = eval_numerical_gradient_array(lambda b: affine_forward(x, w, b)[0], b, dout)\n",
    "\n",
    "_, cache = affine_forward(x, w, b)\n",
    "dx, dw, db = affine_backward(dout, cache)\n",
    "\n",
    "# The error should be around e-10 or less\n",
    "print('Testing affine_backward function:')\n",
    "print('dx error: ', rel_error(dx_num, dx))\n",
    "print('dw error: ', rel_error(dw_num, dw))\n",
    "print('db error: ', rel_error(db_num, db))"
   ]
  },
  {
   "cell_type": "markdown",
   "metadata": {},
   "source": [
    "# ReLU activation: forward\n",
    "Implement the forward pass for the ReLU activation function in the `relu_forward` function and test your implementation using the following:"
   ]
  },
  {
   "cell_type": "code",
   "execution_count": 5,
   "metadata": {},
   "outputs": [
    {
     "name": "stdout",
     "output_type": "stream",
     "text": [
      "Testing relu_forward function:\n",
      "difference:  4.999999798022158e-08\n"
     ]
    }
   ],
   "source": [
    "# Test the relu_forward function\n",
    "\n",
    "x = np.linspace(-0.5, 0.5, num=12).reshape(3, 4)\n",
    "\n",
    "out, _ = relu_forward(x)\n",
    "correct_out = np.array([[ 0.,          0.,          0.,          0.,        ],\n",
    "                        [ 0.,          0.,          0.04545455,  0.13636364,],\n",
    "                        [ 0.22727273,  0.31818182,  0.40909091,  0.5,       ]])\n",
    "\n",
    "# Compare your output with ours. The error should be on the order of e-8\n",
    "print('Testing relu_forward function:')\n",
    "print('difference: ', rel_error(out, correct_out))"
   ]
  },
  {
   "cell_type": "markdown",
   "metadata": {},
   "source": [
    "# ReLU activation: backward\n",
    "Now implement the backward pass for the ReLU activation function in the `relu_backward` function and test your implementation using numeric gradient checking:"
   ]
  },
  {
   "cell_type": "code",
   "execution_count": 6,
   "metadata": {},
   "outputs": [
    {
     "name": "stdout",
     "output_type": "stream",
     "text": [
      "Testing relu_backward function:\n",
      "dx error:  3.2756349136310288e-12\n"
     ]
    }
   ],
   "source": [
    "np.random.seed(231)\n",
    "x = np.random.randn(10, 10)\n",
    "dout = np.random.randn(*x.shape)\n",
    "\n",
    "dx_num = eval_numerical_gradient_array(lambda x: relu_forward(x)[0], x, dout)\n",
    "\n",
    "_, cache = relu_forward(x)\n",
    "dx = relu_backward(dout, cache)\n",
    "\n",
    "# The error should be on the order of e-12\n",
    "print('Testing relu_backward function:')\n",
    "print('dx error: ', rel_error(dx_num, dx))"
   ]
  },
  {
   "cell_type": "markdown",
   "metadata": {
    "tags": [
     "pdf-inline"
    ]
   },
   "source": [
    "## Inline Question 1: \n",
    "\n",
    "We've only asked you to implement ReLU, but there are a number of different activation functions that one could use in neural networks, each with its pros and cons. In particular, an issue commonly seen with activation functions is getting zero (or close to zero) gradient flow during backpropagation. Which of the following activation functions have this problem? If you consider these functions in the one dimensional case, what types of input would lead to this behaviour?\n",
    "1. Sigmoid\n",
    "2. ReLU\n",
    "3. Leaky ReLU\n",
    "\n",
    "## Answer:\n",
    "[FILL THIS IN]\n"
   ]
  },
  {
   "cell_type": "markdown",
   "metadata": {},
   "source": [
    "# \"Sandwich\" layers\n",
    "There are some common patterns of layers that are frequently used in neural nets. For example, affine layers are frequently followed by a ReLU nonlinearity. To make these common patterns easy, we define several convenience layers in the file `cs231n/layer_utils.py`.\n",
    "\n",
    "For now take a look at the `affine_relu_forward` and `affine_relu_backward` functions, and run the following to numerically gradient check the backward pass:"
   ]
  },
  {
   "cell_type": "code",
   "execution_count": 7,
   "metadata": {},
   "outputs": [
    {
     "name": "stdout",
     "output_type": "stream",
     "text": [
      "Testing affine_relu_forward and affine_relu_backward:\n",
      "dx error:  2.299579177309368e-11\n",
      "dw error:  8.162011105764925e-11\n",
      "db error:  7.826724021458994e-12\n"
     ]
    }
   ],
   "source": [
    "from cs231n.layer_utils import affine_relu_forward, affine_relu_backward\n",
    "np.random.seed(231)\n",
    "x = np.random.randn(2, 3, 4)\n",
    "w = np.random.randn(12, 10)\n",
    "b = np.random.randn(10)\n",
    "dout = np.random.randn(2, 10)\n",
    "\n",
    "out, cache = affine_relu_forward(x, w, b)\n",
    "dx, dw, db = affine_relu_backward(dout, cache)\n",
    "\n",
    "dx_num = eval_numerical_gradient_array(lambda x: affine_relu_forward(x, w, b)[0], x, dout)\n",
    "dw_num = eval_numerical_gradient_array(lambda w: affine_relu_forward(x, w, b)[0], w, dout)\n",
    "db_num = eval_numerical_gradient_array(lambda b: affine_relu_forward(x, w, b)[0], b, dout)\n",
    "\n",
    "# Relative error should be around e-10 or less\n",
    "print('Testing affine_relu_forward and affine_relu_backward:')\n",
    "print('dx error: ', rel_error(dx_num, dx))\n",
    "print('dw error: ', rel_error(dw_num, dw))\n",
    "print('db error: ', rel_error(db_num, db))"
   ]
  },
  {
   "cell_type": "markdown",
   "metadata": {},
   "source": [
    "# Loss layers: Softmax and SVM\n",
    "You implemented these loss functions in the last assignment, so we'll give them to you for free here. You should still make sure you understand how they work by looking at the implementations in `cs231n/layers.py`.\n",
    "\n",
    "You can make sure that the implementations are correct by running the following:"
   ]
  },
  {
   "cell_type": "code",
   "execution_count": 8,
   "metadata": {},
   "outputs": [
    {
     "name": "stdout",
     "output_type": "stream",
     "text": [
      "Testing svm_loss:\n",
      "loss:  8.999602749096233\n",
      "dx error:  1.4021566006651672e-09\n",
      "\n",
      "Testing softmax_loss:\n",
      "loss:  2.302545844500738\n",
      "dx error:  9.384673161989355e-09\n"
     ]
    }
   ],
   "source": [
    "np.random.seed(231)\n",
    "num_classes, num_inputs = 10, 50\n",
    "x = 0.001 * np.random.randn(num_inputs, num_classes)\n",
    "y = np.random.randint(num_classes, size=num_inputs)\n",
    "\n",
    "dx_num = eval_numerical_gradient(lambda x: svm_loss(x, y)[0], x, verbose=False)\n",
    "loss, dx = svm_loss(x, y)\n",
    "\n",
    "# Test svm_loss function. Loss should be around 9 and dx error should be around the order of e-9\n",
    "print('Testing svm_loss:')\n",
    "print('loss: ', loss)\n",
    "print('dx error: ', rel_error(dx_num, dx))\n",
    "\n",
    "dx_num = eval_numerical_gradient(lambda x: softmax_loss(x, y)[0], x, verbose=False)\n",
    "loss, dx = softmax_loss(x, y)\n",
    "\n",
    "# Test softmax_loss function. Loss should be close to 2.3 and dx error should be around e-8\n",
    "print('\\nTesting softmax_loss:')\n",
    "print('loss: ', loss)\n",
    "print('dx error: ', rel_error(dx_num, dx))"
   ]
  },
  {
   "cell_type": "markdown",
   "metadata": {},
   "source": [
    "# Two-layer network\n",
    "In the previous assignment you implemented a two-layer neural network in a single monolithic class. Now that you have implemented modular versions of the necessary layers, you will reimplement the two layer network using these modular implementations.\n",
    "\n",
    "Open the file `cs231n/classifiers/fc_net.py` and complete the implementation of the `TwoLayerNet` class. This class will serve as a model for the other networks you will implement in this assignment, so read through it to make sure you understand the API. You can run the cell below to test your implementation."
   ]
  },
  {
   "cell_type": "code",
   "execution_count": 9,
   "metadata": {},
   "outputs": [
    {
     "name": "stdout",
     "output_type": "stream",
     "text": [
      "Testing initialization ... \n",
      "Testing test-time forward pass ... \n",
      "Testing training loss (no regularization)\n",
      "Running numeric gradient check with reg =  0.0\n",
      "W1 relative error: 1.83e-08\n",
      "W2 relative error: 3.12e-10\n",
      "b1 relative error: 9.83e-09\n",
      "b2 relative error: 4.33e-10\n",
      "Running numeric gradient check with reg =  0.7\n",
      "W1 relative error: 2.53e-07\n",
      "W2 relative error: 2.85e-08\n",
      "b1 relative error: 1.56e-08\n",
      "b2 relative error: 7.76e-10\n"
     ]
    }
   ],
   "source": [
    "np.random.seed(231)\n",
    "N, D, H, C = 3, 5, 50, 7\n",
    "X = np.random.randn(N, D)\n",
    "y = np.random.randint(C, size=N)\n",
    "\n",
    "std = 1e-3\n",
    "model = TwoLayerNet(input_dim=D, hidden_dim=H, num_classes=C, weight_scale=std)\n",
    "\n",
    "print('Testing initialization ... ')\n",
    "W1_std = abs(model.params['W1'].std() - std)\n",
    "b1 = model.params['b1']\n",
    "W2_std = abs(model.params['W2'].std() - std)\n",
    "b2 = model.params['b2']\n",
    "assert W1_std < std / 10, 'First layer weights do not seem right'\n",
    "assert np.all(b1 == 0), 'First layer biases do not seem right'\n",
    "assert W2_std < std / 10, 'Second layer weights do not seem right'\n",
    "assert np.all(b2 == 0), 'Second layer biases do not seem right'\n",
    "\n",
    "print('Testing test-time forward pass ... ')\n",
    "model.params['W1'] = np.linspace(-0.7, 0.3, num=D*H).reshape(D, H)\n",
    "model.params['b1'] = np.linspace(-0.1, 0.9, num=H)\n",
    "model.params['W2'] = np.linspace(-0.3, 0.4, num=H*C).reshape(H, C)\n",
    "model.params['b2'] = np.linspace(-0.9, 0.1, num=C)\n",
    "X = np.linspace(-5.5, 4.5, num=N*D).reshape(D, N).T\n",
    "scores = model.loss(X)\n",
    "correct_scores = np.asarray(\n",
    "  [[11.53165108,  12.2917344,   13.05181771,  13.81190102,  14.57198434, 15.33206765,  16.09215096],\n",
    "   [12.05769098,  12.74614105,  13.43459113,  14.1230412,   14.81149128, 15.49994135,  16.18839143],\n",
    "   [12.58373087,  13.20054771,  13.81736455,  14.43418138,  15.05099822, 15.66781506,  16.2846319 ]])\n",
    "scores_diff = np.abs(scores - correct_scores).sum()\n",
    "assert scores_diff < 1e-6, 'Problem with test-time forward pass'\n",
    "\n",
    "print('Testing training loss (no regularization)')\n",
    "y = np.asarray([0, 5, 1])\n",
    "loss, grads = model.loss(X, y)\n",
    "correct_loss = 3.4702243556\n",
    "assert abs(loss - correct_loss) < 1e-10, 'Problem with training-time loss'\n",
    "\n",
    "model.reg = 1.0\n",
    "loss, grads = model.loss(X, y)\n",
    "correct_loss = 26.5948426952\n",
    "assert abs(loss - correct_loss) < 1e-10, 'Problem with regularization loss'\n",
    "\n",
    "# Errors should be around e-7 or less\n",
    "for reg in [0.0, 0.7]:\n",
    "  print('Running numeric gradient check with reg = ', reg)\n",
    "  model.reg = reg\n",
    "  loss, grads = model.loss(X, y)\n",
    "\n",
    "  for name in sorted(grads):\n",
    "    f = lambda _: model.loss(X, y)[0]\n",
    "    grad_num = eval_numerical_gradient(f, model.params[name], verbose=False)\n",
    "    print('%s relative error: %.2e' % (name, rel_error(grad_num, grads[name])))"
   ]
  },
  {
   "cell_type": "markdown",
   "metadata": {},
   "source": [
    "# Solver\n",
    "In the previous assignment, the logic for training models was coupled to the models themselves. Following a more modular design, for this assignment we have split the logic for training models into a separate class.\n",
    "\n",
    "Open the file `cs231n/solver.py` and read through it to familiarize yourself with the API. After doing so, use a `Solver` instance to train a `TwoLayerNet` that achieves at least `50%` accuracy on the validation set."
   ]
  },
  {
   "cell_type": "code",
   "execution_count": 10,
   "metadata": {},
   "outputs": [
    {
     "name": "stdout",
     "output_type": "stream",
     "text": [
      "(Iteration 1 / 2450) loss: 2.305965\n",
      "(Epoch 0 / 10) train acc: 0.114000; val_acc: 0.096000\n",
      "(Iteration 11 / 2450) loss: 2.242159\n",
      "(Iteration 21 / 2450) loss: 2.123432\n",
      "(Iteration 31 / 2450) loss: 2.060591\n",
      "(Iteration 41 / 2450) loss: 1.946846\n",
      "(Iteration 51 / 2450) loss: 1.922815\n",
      "(Iteration 61 / 2450) loss: 1.899910\n",
      "(Iteration 71 / 2450) loss: 1.815344\n",
      "(Iteration 81 / 2450) loss: 1.815566\n",
      "(Iteration 91 / 2450) loss: 1.747445\n",
      "(Iteration 101 / 2450) loss: 1.856329\n",
      "(Iteration 111 / 2450) loss: 1.863806\n",
      "(Iteration 121 / 2450) loss: 1.611970\n",
      "(Iteration 131 / 2450) loss: 1.783810\n",
      "(Iteration 141 / 2450) loss: 1.706058\n",
      "(Iteration 151 / 2450) loss: 1.736056\n",
      "(Iteration 161 / 2450) loss: 1.598500\n",
      "(Iteration 171 / 2450) loss: 1.727788\n",
      "(Iteration 181 / 2450) loss: 1.814218\n",
      "(Iteration 191 / 2450) loss: 1.725949\n",
      "(Iteration 201 / 2450) loss: 1.598619\n",
      "(Iteration 211 / 2450) loss: 1.553150\n",
      "(Iteration 221 / 2450) loss: 1.665751\n",
      "(Iteration 231 / 2450) loss: 1.506649\n",
      "(Iteration 241 / 2450) loss: 1.528469\n",
      "(Epoch 1 / 10) train acc: 0.407000; val_acc: 0.416000\n",
      "(Iteration 251 / 2450) loss: 1.630880\n",
      "(Iteration 261 / 2450) loss: 1.708138\n",
      "(Iteration 271 / 2450) loss: 1.491088\n",
      "(Iteration 281 / 2450) loss: 1.435510\n",
      "(Iteration 291 / 2450) loss: 1.530457\n",
      "(Iteration 301 / 2450) loss: 1.548536\n",
      "(Iteration 311 / 2450) loss: 1.578322\n",
      "(Iteration 321 / 2450) loss: 1.584989\n",
      "(Iteration 331 / 2450) loss: 1.537269\n",
      "(Iteration 341 / 2450) loss: 1.549136\n",
      "(Iteration 351 / 2450) loss: 1.627434\n",
      "(Iteration 361 / 2450) loss: 1.604267\n",
      "(Iteration 371 / 2450) loss: 1.509630\n",
      "(Iteration 381 / 2450) loss: 1.568596\n",
      "(Iteration 391 / 2450) loss: 1.586729\n",
      "(Iteration 401 / 2450) loss: 1.661861\n",
      "(Iteration 411 / 2450) loss: 1.504417\n",
      "(Iteration 421 / 2450) loss: 1.552436\n",
      "(Iteration 431 / 2450) loss: 1.433199\n",
      "(Iteration 441 / 2450) loss: 1.451665\n",
      "(Iteration 451 / 2450) loss: 1.511598\n",
      "(Iteration 461 / 2450) loss: 1.453829\n",
      "(Iteration 471 / 2450) loss: 1.493274\n",
      "(Iteration 481 / 2450) loss: 1.409991\n",
      "(Epoch 2 / 10) train acc: 0.491000; val_acc: 0.462000\n",
      "(Iteration 491 / 2450) loss: 1.545381\n",
      "(Iteration 501 / 2450) loss: 1.452303\n",
      "(Iteration 511 / 2450) loss: 1.527882\n",
      "(Iteration 521 / 2450) loss: 1.557905\n",
      "(Iteration 531 / 2450) loss: 1.595700\n",
      "(Iteration 541 / 2450) loss: 1.547767\n",
      "(Iteration 551 / 2450) loss: 1.434240\n",
      "(Iteration 561 / 2450) loss: 1.572586\n",
      "(Iteration 571 / 2450) loss: 1.498340\n",
      "(Iteration 581 / 2450) loss: 1.561966\n",
      "(Iteration 591 / 2450) loss: 1.498836\n",
      "(Iteration 601 / 2450) loss: 1.665413\n",
      "(Iteration 611 / 2450) loss: 1.427234\n",
      "(Iteration 621 / 2450) loss: 1.511545\n",
      "(Iteration 631 / 2450) loss: 1.491655\n",
      "(Iteration 641 / 2450) loss: 1.533900\n",
      "(Iteration 651 / 2450) loss: 1.526502\n",
      "(Iteration 661 / 2450) loss: 1.474438\n",
      "(Iteration 671 / 2450) loss: 1.500770\n",
      "(Iteration 681 / 2450) loss: 1.467439\n",
      "(Iteration 691 / 2450) loss: 1.349174\n",
      "(Iteration 701 / 2450) loss: 1.295910\n",
      "(Iteration 711 / 2450) loss: 1.526584\n",
      "(Iteration 721 / 2450) loss: 1.425795\n",
      "(Iteration 731 / 2450) loss: 1.351162\n",
      "(Epoch 3 / 10) train acc: 0.485000; val_acc: 0.461000\n",
      "(Iteration 741 / 2450) loss: 1.398786\n",
      "(Iteration 751 / 2450) loss: 1.381650\n",
      "(Iteration 761 / 2450) loss: 1.474397\n",
      "(Iteration 771 / 2450) loss: 1.329334\n",
      "(Iteration 781 / 2450) loss: 1.261447\n",
      "(Iteration 791 / 2450) loss: 1.347203\n",
      "(Iteration 801 / 2450) loss: 1.393038\n",
      "(Iteration 811 / 2450) loss: 1.362543\n",
      "(Iteration 821 / 2450) loss: 1.306902\n",
      "(Iteration 831 / 2450) loss: 1.535612\n",
      "(Iteration 841 / 2450) loss: 1.531062\n",
      "(Iteration 851 / 2450) loss: 1.341503\n",
      "(Iteration 861 / 2450) loss: 1.342844\n",
      "(Iteration 871 / 2450) loss: 1.329553\n",
      "(Iteration 881 / 2450) loss: 1.515120\n",
      "(Iteration 891 / 2450) loss: 1.243808\n",
      "(Iteration 901 / 2450) loss: 1.395341\n",
      "(Iteration 911 / 2450) loss: 1.340631\n",
      "(Iteration 921 / 2450) loss: 1.426174\n",
      "(Iteration 931 / 2450) loss: 1.304780\n",
      "(Iteration 941 / 2450) loss: 1.315503\n",
      "(Iteration 951 / 2450) loss: 1.372354\n",
      "(Iteration 961 / 2450) loss: 1.319724\n",
      "(Iteration 971 / 2450) loss: 1.272563\n",
      "(Epoch 4 / 10) train acc: 0.533000; val_acc: 0.499000\n",
      "(Iteration 981 / 2450) loss: 1.394062\n",
      "(Iteration 991 / 2450) loss: 1.341184\n",
      "(Iteration 1001 / 2450) loss: 1.449278\n",
      "(Iteration 1011 / 2450) loss: 1.367113\n",
      "(Iteration 1021 / 2450) loss: 1.395509\n",
      "(Iteration 1031 / 2450) loss: 1.425892\n",
      "(Iteration 1041 / 2450) loss: 1.333850\n",
      "(Iteration 1051 / 2450) loss: 1.358131\n",
      "(Iteration 1061 / 2450) loss: 1.442479\n",
      "(Iteration 1071 / 2450) loss: 1.394570\n",
      "(Iteration 1081 / 2450) loss: 1.354067\n",
      "(Iteration 1091 / 2450) loss: 1.308959\n",
      "(Iteration 1101 / 2450) loss: 1.276145\n",
      "(Iteration 1111 / 2450) loss: 1.414448\n",
      "(Iteration 1121 / 2450) loss: 1.312836\n",
      "(Iteration 1131 / 2450) loss: 1.263920\n",
      "(Iteration 1141 / 2450) loss: 1.281506\n",
      "(Iteration 1151 / 2450) loss: 1.290588\n",
      "(Iteration 1161 / 2450) loss: 1.317937\n",
      "(Iteration 1171 / 2450) loss: 1.434043\n",
      "(Iteration 1181 / 2450) loss: 1.377896\n",
      "(Iteration 1191 / 2450) loss: 1.377822\n",
      "(Iteration 1201 / 2450) loss: 1.207275\n",
      "(Iteration 1211 / 2450) loss: 1.418837\n",
      "(Iteration 1221 / 2450) loss: 1.253529\n",
      "(Epoch 5 / 10) train acc: 0.520000; val_acc: 0.516000\n",
      "(Iteration 1231 / 2450) loss: 1.307414\n",
      "(Iteration 1241 / 2450) loss: 1.385934\n",
      "(Iteration 1251 / 2450) loss: 1.459735\n",
      "(Iteration 1261 / 2450) loss: 1.205603\n",
      "(Iteration 1271 / 2450) loss: 1.333723\n",
      "(Iteration 1281 / 2450) loss: 1.349611\n",
      "(Iteration 1291 / 2450) loss: 1.319934\n",
      "(Iteration 1301 / 2450) loss: 1.339874\n",
      "(Iteration 1311 / 2450) loss: 1.291029\n",
      "(Iteration 1321 / 2450) loss: 1.262234\n",
      "(Iteration 1331 / 2450) loss: 1.328063\n",
      "(Iteration 1341 / 2450) loss: 1.213358\n",
      "(Iteration 1351 / 2450) loss: 1.158857\n",
      "(Iteration 1361 / 2450) loss: 1.312722\n",
      "(Iteration 1371 / 2450) loss: 1.400709\n",
      "(Iteration 1381 / 2450) loss: 1.263984\n",
      "(Iteration 1391 / 2450) loss: 1.242960\n",
      "(Iteration 1401 / 2450) loss: 1.430487\n",
      "(Iteration 1411 / 2450) loss: 1.335605\n",
      "(Iteration 1421 / 2450) loss: 1.392567\n",
      "(Iteration 1431 / 2450) loss: 1.217623\n",
      "(Iteration 1441 / 2450) loss: 1.176714\n",
      "(Iteration 1451 / 2450) loss: 1.344932\n",
      "(Iteration 1461 / 2450) loss: 1.353013\n",
      "(Epoch 6 / 10) train acc: 0.534000; val_acc: 0.507000\n",
      "(Iteration 1471 / 2450) loss: 1.272135\n",
      "(Iteration 1481 / 2450) loss: 1.416029\n",
      "(Iteration 1491 / 2450) loss: 1.367586\n",
      "(Iteration 1501 / 2450) loss: 1.364778\n",
      "(Iteration 1511 / 2450) loss: 1.330210\n",
      "(Iteration 1521 / 2450) loss: 1.293257\n",
      "(Iteration 1531 / 2450) loss: 1.253512\n",
      "(Iteration 1541 / 2450) loss: 1.443490\n",
      "(Iteration 1551 / 2450) loss: 1.352016\n",
      "(Iteration 1561 / 2450) loss: 1.200673\n",
      "(Iteration 1571 / 2450) loss: 1.254306\n",
      "(Iteration 1581 / 2450) loss: 1.270375\n",
      "(Iteration 1591 / 2450) loss: 1.232656\n",
      "(Iteration 1601 / 2450) loss: 1.167146\n",
      "(Iteration 1611 / 2450) loss: 1.237044\n",
      "(Iteration 1621 / 2450) loss: 1.254934\n",
      "(Iteration 1631 / 2450) loss: 1.198535\n",
      "(Iteration 1641 / 2450) loss: 1.404227\n",
      "(Iteration 1651 / 2450) loss: 1.181201\n",
      "(Iteration 1661 / 2450) loss: 1.383873\n",
      "(Iteration 1671 / 2450) loss: 1.273775\n",
      "(Iteration 1681 / 2450) loss: 1.417831\n",
      "(Iteration 1691 / 2450) loss: 1.349362\n",
      "(Iteration 1701 / 2450) loss: 1.362156\n",
      "(Iteration 1711 / 2450) loss: 1.136124\n",
      "(Epoch 7 / 10) train acc: 0.558000; val_acc: 0.511000\n",
      "(Iteration 1721 / 2450) loss: 1.177521\n",
      "(Iteration 1731 / 2450) loss: 1.261510\n",
      "(Iteration 1741 / 2450) loss: 1.406297\n",
      "(Iteration 1751 / 2450) loss: 1.348173\n",
      "(Iteration 1761 / 2450) loss: 1.224965\n",
      "(Iteration 1771 / 2450) loss: 1.311732\n",
      "(Iteration 1781 / 2450) loss: 1.262135\n",
      "(Iteration 1791 / 2450) loss: 1.175192\n",
      "(Iteration 1801 / 2450) loss: 1.225039\n",
      "(Iteration 1811 / 2450) loss: 1.165819\n",
      "(Iteration 1821 / 2450) loss: 1.412031\n",
      "(Iteration 1831 / 2450) loss: 1.165443\n",
      "(Iteration 1841 / 2450) loss: 1.203619\n",
      "(Iteration 1851 / 2450) loss: 1.299473\n",
      "(Iteration 1861 / 2450) loss: 1.268449\n",
      "(Iteration 1871 / 2450) loss: 1.211227\n",
      "(Iteration 1881 / 2450) loss: 1.187875\n",
      "(Iteration 1891 / 2450) loss: 1.214269\n",
      "(Iteration 1901 / 2450) loss: 1.310197\n",
      "(Iteration 1911 / 2450) loss: 1.134260\n",
      "(Iteration 1921 / 2450) loss: 1.262142\n",
      "(Iteration 1931 / 2450) loss: 1.311592\n",
      "(Iteration 1941 / 2450) loss: 1.159249\n",
      "(Iteration 1951 / 2450) loss: 1.304907\n",
      "(Epoch 8 / 10) train acc: 0.567000; val_acc: 0.505000\n",
      "(Iteration 1961 / 2450) loss: 1.218294\n",
      "(Iteration 1971 / 2450) loss: 1.252847\n",
      "(Iteration 1981 / 2450) loss: 1.215936\n",
      "(Iteration 1991 / 2450) loss: 1.237871\n",
      "(Iteration 2001 / 2450) loss: 1.271719\n"
     ]
    },
    {
     "name": "stdout",
     "output_type": "stream",
     "text": [
      "(Iteration 2011 / 2450) loss: 1.250344\n",
      "(Iteration 2021 / 2450) loss: 1.193501\n",
      "(Iteration 2031 / 2450) loss: 1.218629\n",
      "(Iteration 2041 / 2450) loss: 1.270968\n",
      "(Iteration 2051 / 2450) loss: 1.280421\n",
      "(Iteration 2061 / 2450) loss: 1.322342\n",
      "(Iteration 2071 / 2450) loss: 1.218060\n",
      "(Iteration 2081 / 2450) loss: 1.146286\n",
      "(Iteration 2091 / 2450) loss: 1.451674\n",
      "(Iteration 2101 / 2450) loss: 1.120800\n",
      "(Iteration 2111 / 2450) loss: 1.113496\n",
      "(Iteration 2121 / 2450) loss: 1.108183\n",
      "(Iteration 2131 / 2450) loss: 1.040588\n",
      "(Iteration 2141 / 2450) loss: 1.284004\n",
      "(Iteration 2151 / 2450) loss: 1.141696\n",
      "(Iteration 2161 / 2450) loss: 1.246963\n",
      "(Iteration 2171 / 2450) loss: 1.150311\n",
      "(Iteration 2181 / 2450) loss: 1.336709\n",
      "(Iteration 2191 / 2450) loss: 1.165142\n",
      "(Iteration 2201 / 2450) loss: 1.279429\n",
      "(Epoch 9 / 10) train acc: 0.580000; val_acc: 0.514000\n",
      "(Iteration 2211 / 2450) loss: 1.071158\n",
      "(Iteration 2221 / 2450) loss: 1.182111\n",
      "(Iteration 2231 / 2450) loss: 1.180736\n",
      "(Iteration 2241 / 2450) loss: 1.070535\n",
      "(Iteration 2251 / 2450) loss: 1.145145\n",
      "(Iteration 2261 / 2450) loss: 1.229054\n",
      "(Iteration 2271 / 2450) loss: 1.210910\n",
      "(Iteration 2281 / 2450) loss: 1.068830\n",
      "(Iteration 2291 / 2450) loss: 1.193932\n",
      "(Iteration 2301 / 2450) loss: 1.229667\n",
      "(Iteration 2311 / 2450) loss: 1.178446\n",
      "(Iteration 2321 / 2450) loss: 1.211715\n",
      "(Iteration 2331 / 2450) loss: 1.189818\n",
      "(Iteration 2341 / 2450) loss: 1.175088\n",
      "(Iteration 2351 / 2450) loss: 1.083478\n",
      "(Iteration 2361 / 2450) loss: 1.341698\n",
      "(Iteration 2371 / 2450) loss: 1.221110\n",
      "(Iteration 2381 / 2450) loss: 1.303268\n",
      "(Iteration 2391 / 2450) loss: 1.392353\n",
      "(Iteration 2401 / 2450) loss: 1.104043\n",
      "(Iteration 2411 / 2450) loss: 1.118094\n",
      "(Iteration 2421 / 2450) loss: 1.277425\n",
      "(Iteration 2431 / 2450) loss: 1.316957\n",
      "(Iteration 2441 / 2450) loss: 1.145470\n",
      "(Epoch 10 / 10) train acc: 0.597000; val_acc: 0.518000\n",
      "0.518\n"
     ]
    }
   ],
   "source": [
    "model = TwoLayerNet()\n",
    "solver = None\n",
    "\n",
    "##############################################################################\n",
    "# TODO: Use a Solver instance to train a TwoLayerNet that achieves at least  #\n",
    "# 50% accuracy on the validation set.                                        #\n",
    "##############################################################################\n",
    "# *****START OF YOUR CODE (DO NOT DELETE/MODIFY THIS LINE)*****\n",
    "\n",
    "solver = Solver(model, data, \n",
    "                update_rule='sgd', optim_config={'learning_rate':1e-3}, lr_decay=0.95, \n",
    "                batch_size=200, num_epochs=10, num_train_samples=1000, \n",
    "                num_val_samples=None, checkpoint_name=None, \n",
    "                print_every=10, verbose=True)\n",
    "solver.train()\n",
    "acc = solver.check_accuracy(data['X_val'], data['y_val'])\n",
    "print(acc)\n",
    "\n",
    "# *****END OF YOUR CODE (DO NOT DELETE/MODIFY THIS LINE)*****\n",
    "##############################################################################\n",
    "#                             END OF YOUR CODE                               #\n",
    "##############################################################################"
   ]
  },
  {
   "cell_type": "code",
   "execution_count": 11,
   "metadata": {},
   "outputs": [
    {
     "data": {
      "image/png": "[encoded data removed]",
      "text/plain": [
       "<Figure size 1080x864 with 2 Axes>"
      ]
     },
     "metadata": {
      "needs_background": "light"
     },
     "output_type": "display_data"
    }
   ],
   "source": [
    "# Run this cell to visualize training loss and train / val accuracy\n",
    "\n",
    "plt.subplot(2, 1, 1)\n",
    "plt.title('Training loss')\n",
    "plt.plot(solver.loss_history, 'o')\n",
    "plt.xlabel('Iteration')\n",
    "\n",
    "plt.subplot(2, 1, 2)\n",
    "plt.title('Accuracy')\n",
    "plt.plot(solver.train_acc_history, '-o', label='train')\n",
    "plt.plot(solver.val_acc_history, '-o', label='val')\n",
    "plt.plot([0.5] * len(solver.val_acc_history), 'k--')\n",
    "plt.xlabel('Epoch')\n",
    "plt.legend(loc='lower right')\n",
    "plt.gcf().set_size_inches(15, 12)\n",
    "plt.show()"
   ]
  },
  {
   "cell_type": "markdown",
   "metadata": {},
   "source": [
    "# Multilayer network\n",
    "Next you will implement a fully-connected network with an arbitrary number of hidden layers.\n",
    "\n",
    "Read through the `FullyConnectedNet` class in the file `cs231n/classifiers/fc_net.py`.\n",
    "\n",
    "Implement the initialization, the forward pass, and the backward pass. For the moment don't worry about implementing dropout or batch/layer normalization; we will add those features soon."
   ]
  },
  {
   "cell_type": "markdown",
   "metadata": {},
   "source": [
    "## Initial loss and gradient check\n",
    "\n",
    "As a sanity check, run the following to check the initial loss and to gradient check the network both with and without regularization. Do the initial losses seem reasonable?\n",
    "\n",
    "For gradient checking, you should expect to see errors around 1e-7 or less."
   ]
  },
  {
   "cell_type": "code",
   "execution_count": 3,
   "metadata": {},
   "outputs": [
    {
     "name": "stdout",
     "output_type": "stream",
     "text": [
      "Running check with reg =  0\n",
      "Initial loss:  2.3004790897684924\n",
      "W1 relative error: 1.48e-07\n",
      "W2 relative error: 2.21e-05\n",
      "W3 relative error: 3.53e-07\n",
      "b1 relative error: 5.38e-09\n",
      "b2 relative error: 2.09e-09\n",
      "b3 relative error: 5.80e-11\n",
      "Running check with reg =  3.14\n",
      "Initial loss:  7.052114776533016\n",
      "W1 relative error: 3.90e-09\n",
      "W2 relative error: 6.87e-08\n",
      "W3 relative error: 2.13e-08\n",
      "b1 relative error: 1.48e-08\n",
      "b2 relative error: 1.72e-09\n",
      "b3 relative error: 1.57e-10\n"
     ]
    }
   ],
   "source": [
    "np.random.seed(231)\n",
    "N, D, H1, H2, C = 2, 15, 20, 30, 10\n",
    "X = np.random.randn(N, D)\n",
    "y = np.random.randint(C, size=(N,))\n",
    "\n",
    "for reg in [0, 3.14]:\n",
    "  print('Running check with reg = ', reg)\n",
    "  model = FullyConnectedNet([H1, H2], input_dim=D, num_classes=C,\n",
    "                            reg=reg, weight_scale=5e-2, dtype=np.float64)\n",
    "\n",
    "  loss, grads = model.loss(X, y)\n",
    "  print('Initial loss: ', loss)\n",
    "  \n",
    "  # Most of the errors should be on the order of e-7 or smaller.   \n",
    "  # NOTE: It is fine however to see an error for W2 on the order of e-5\n",
    "  # for the check when reg = 0.0\n",
    "  for name in sorted(grads):\n",
    "    f = lambda _: model.loss(X, y)[0]\n",
    "    grad_num = eval_numerical_gradient(f, model.params[name], verbose=False, h=1e-5)\n",
    "    print('%s relative error: %.2e' % (name, rel_error(grad_num, grads[name])))"
   ]
  },
  {
   "cell_type": "markdown",
   "metadata": {},
   "source": [
    "As another sanity check, make sure you can overfit a small dataset of 50 images. First we will try a three-layer network with 100 units in each hidden layer. In the following cell, tweak the **learning rate** and **weight initialization scale** to overfit and achieve 100% training accuracy within 20 epochs."
   ]
  },
  {
   "cell_type": "code",
   "execution_count": 4,
   "metadata": {
    "scrolled": false
   },
   "outputs": [
    {
     "name": "stdout",
     "output_type": "stream",
     "text": [
      "(Iteration 1 / 40) loss: 357.428290\n",
      "(Epoch 0 / 20) train acc: 0.220000; val_acc: 0.111000\n",
      "(Epoch 1 / 20) train acc: 0.380000; val_acc: 0.141000\n",
      "(Epoch 2 / 20) train acc: 0.520000; val_acc: 0.138000\n",
      "(Epoch 3 / 20) train acc: 0.740000; val_acc: 0.130000\n",
      "(Epoch 4 / 20) train acc: 0.820000; val_acc: 0.153000\n",
      "(Epoch 5 / 20) train acc: 0.860000; val_acc: 0.175000\n",
      "(Iteration 11 / 40) loss: 6.726589\n",
      "(Epoch 6 / 20) train acc: 0.940000; val_acc: 0.163000\n",
      "(Epoch 7 / 20) train acc: 0.960000; val_acc: 0.166000\n",
      "(Epoch 8 / 20) train acc: 0.960000; val_acc: 0.164000\n",
      "(Epoch 9 / 20) train acc: 0.980000; val_acc: 0.162000\n",
      "(Epoch 10 / 20) train acc: 0.980000; val_acc: 0.162000\n",
      "(Iteration 21 / 40) loss: 0.800243\n",
      "(Epoch 11 / 20) train acc: 1.000000; val_acc: 0.158000\n",
      "(Epoch 12 / 20) train acc: 1.000000; val_acc: 0.158000\n",
      "(Epoch 13 / 20) train acc: 1.000000; val_acc: 0.158000\n",
      "(Epoch 14 / 20) train acc: 1.000000; val_acc: 0.158000\n",
      "(Epoch 15 / 20) train acc: 1.000000; val_acc: 0.158000\n",
      "(Iteration 31 / 40) loss: 0.000000\n",
      "(Epoch 16 / 20) train acc: 1.000000; val_acc: 0.158000\n",
      "(Epoch 17 / 20) train acc: 1.000000; val_acc: 0.158000\n",
      "(Epoch 18 / 20) train acc: 1.000000; val_acc: 0.158000\n",
      "(Epoch 19 / 20) train acc: 1.000000; val_acc: 0.158000\n",
      "(Epoch 20 / 20) train acc: 1.000000; val_acc: 0.158000\n"
     ]
    },
    {
     "data": {
      "image/png": "[encoded data removed]",
      "text/plain": [
       "<Figure size 432x288 with 1 Axes>"
      ]
     },
     "metadata": {
      "needs_background": "light"
     },
     "output_type": "display_data"
    }
   ],
   "source": [
    "# TODO: Use a three-layer Net to overfit 50 training examples by \n",
    "# tweaking just the learning rate and initialization scale.\n",
    "\n",
    "num_train = 50\n",
    "small_data = {\n",
    "  'X_train': data['X_train'][:num_train],\n",
    "  'y_train': data['y_train'][:num_train],\n",
    "  'X_val': data['X_val'],\n",
    "  'y_val': data['y_val'],\n",
    "}\n",
    "\n",
    "weight_scale = 1e-1   # Experiment with this!\n",
    "learning_rate = 1e-3  # Experiment with this!\n",
    "model = FullyConnectedNet([100, 100],\n",
    "              weight_scale=weight_scale, dtype=np.float64)\n",
    "solver = Solver(model, small_data,\n",
    "                print_every=10, num_epochs=20, batch_size=25,\n",
    "                update_rule='sgd',\n",
    "                optim_config={\n",
    "                  'learning_rate': learning_rate,\n",
    "                }\n",
    "         )\n",
    "solver.train()\n",
    "\n",
    "plt.plot(solver.loss_history, 'o')\n",
    "plt.title('Training loss history')\n",
    "plt.xlabel('Iteration')\n",
    "plt.ylabel('Training loss')\n",
    "plt.show()"
   ]
  },
  {
   "cell_type": "markdown",
   "metadata": {},
   "source": [
    "Now try to use a five-layer network with 100 units on each layer to overfit 50 training examples. Again, you will have to adjust the learning rate and weight initialization scale, but you should be able to achieve 100% training accuracy within 20 epochs."
   ]
  },
  {
   "cell_type": "code",
   "execution_count": 5,
   "metadata": {},
   "outputs": [
    {
     "name": "stdout",
     "output_type": "stream",
     "text": [
      "(Iteration 1 / 40) loss: 5.557032\n",
      "(Epoch 0 / 20) train acc: 0.200000; val_acc: 0.108000\n",
      "(Epoch 1 / 20) train acc: 0.240000; val_acc: 0.085000\n",
      "(Epoch 2 / 20) train acc: 0.260000; val_acc: 0.116000\n",
      "(Epoch 3 / 20) train acc: 0.560000; val_acc: 0.125000\n",
      "(Epoch 4 / 20) train acc: 0.700000; val_acc: 0.139000\n",
      "(Epoch 5 / 20) train acc: 0.820000; val_acc: 0.133000\n",
      "(Iteration 11 / 40) loss: 0.919214\n",
      "(Epoch 6 / 20) train acc: 0.840000; val_acc: 0.134000\n",
      "(Epoch 7 / 20) train acc: 0.880000; val_acc: 0.150000\n",
      "(Epoch 8 / 20) train acc: 0.920000; val_acc: 0.146000\n",
      "(Epoch 9 / 20) train acc: 0.960000; val_acc: 0.140000\n",
      "(Epoch 10 / 20) train acc: 0.960000; val_acc: 0.147000\n",
      "(Iteration 21 / 40) loss: 0.304914\n",
      "(Epoch 11 / 20) train acc: 0.960000; val_acc: 0.149000\n",
      "(Epoch 12 / 20) train acc: 0.960000; val_acc: 0.143000\n",
      "(Epoch 13 / 20) train acc: 0.980000; val_acc: 0.155000\n",
      "(Epoch 14 / 20) train acc: 1.000000; val_acc: 0.138000\n",
      "(Epoch 15 / 20) train acc: 1.000000; val_acc: 0.141000\n",
      "(Iteration 31 / 40) loss: 0.142800\n",
      "(Epoch 16 / 20) train acc: 1.000000; val_acc: 0.142000\n",
      "(Epoch 17 / 20) train acc: 1.000000; val_acc: 0.148000\n",
      "(Epoch 18 / 20) train acc: 1.000000; val_acc: 0.152000\n",
      "(Epoch 19 / 20) train acc: 1.000000; val_acc: 0.138000\n",
      "(Epoch 20 / 20) train acc: 1.000000; val_acc: 0.132000\n"
     ]
    },
    {
     "data": {
      "image/png": "[encoded data removed]",
      "text/plain": [
       "<Figure size 432x288 with 1 Axes>"
      ]
     },
     "metadata": {
      "needs_background": "light"
     },
     "output_type": "display_data"
    }
   ],
   "source": [
    "# TODO: Use a five-layer Net to overfit 50 training examples by \n",
    "# tweaking just the learning rate and initialization scale.\n",
    "\n",
    "num_train = 50\n",
    "small_data = {\n",
    "  'X_train': data['X_train'][:num_train],\n",
    "  'y_train': data['y_train'][:num_train],\n",
    "  'X_val': data['X_val'],\n",
    "  'y_val': data['y_val'],\n",
    "}\n",
    "\n",
    "learning_rate = 1e-2  # Experiment with this!\n",
    "weight_scale = 5e-2   # Experiment with this!\n",
    "model = FullyConnectedNet([100, 100, 100, 100],\n",
    "                          weight_scale=weight_scale, dtype=np.float64)\n",
    "solver = Solver(model, small_data,\n",
    "                print_every=10, num_epochs=20, batch_size=25,\n",
    "                update_rule='sgd',\n",
    "                optim_config={\n",
    "                    'learning_rate': learning_rate,\n",
    "                }\n",
    "            )\n",
    "solver.train()\n",
    "\n",
    "plt.plot(solver.loss_history, 'o')\n",
    "plt.title('Training loss history')\n",
    "plt.xlabel('Iteration')\n",
    "plt.ylabel('Training loss')\n",
    "plt.show()"
   ]
  },
  {
   "cell_type": "markdown",
   "metadata": {
    "tags": [
     "pdf-inline"
    ]
   },
   "source": [
    "## Inline Question 2: \n",
    "Did you notice anything about the comparative difficulty of training the three-layer net vs training the five layer net? In particular, based on your experience, which network seemed more sensitive to the initialization scale? Why do you think that is the case?\n",
    "\n",
    "## Answer:\n",
    "[FILL THIS IN]\n"
   ]
  },
  {
   "cell_type": "markdown",
   "metadata": {},
   "source": [
    "# Update rules\n",
    "So far we have used vanilla stochastic gradient descent (SGD) as our update rule. More sophisticated update rules can make it easier to train deep networks. We will implement a few of the most commonly used update rules and compare them to vanilla SGD."
   ]
  },
  {
   "cell_type": "markdown",
   "metadata": {},
   "source": [
    "# SGD+Momentum\n",
    "Stochastic gradient descent with momentum is a widely used update rule that tends to make deep networks converge faster than vanilla stochastic gradient descent. See the Momentum Update section at http://cs231n.github.io/neural-networks-3/#sgd for more information.\n",
    "\n",
    "Open the file `cs231n/optim.py` and read the documentation at the top of the file to make sure you understand the API. Implement the SGD+momentum update rule in the function `sgd_momentum` and run the following to check your implementation. You should see errors less than e-8."
   ]
  },
  {
   "cell_type": "code",
   "execution_count": 15,
   "metadata": {},
   "outputs": [
    {
     "name": "stdout",
     "output_type": "stream",
     "text": [
      "next_w error:  8.882347033505819e-09\n",
      "velocity error:  4.269287743278663e-09\n"
     ]
    }
   ],
   "source": [
    "from cs231n.optim import sgd_momentum\n",
    "\n",
    "N, D = 4, 5\n",
    "w = np.linspace(-0.4, 0.6, num=N*D).reshape(N, D)\n",
    "dw = np.linspace(-0.6, 0.4, num=N*D).reshape(N, D)\n",
    "v = np.linspace(0.6, 0.9, num=N*D).reshape(N, D)\n",
    "\n",
    "config = {'learning_rate': 1e-3, 'velocity': v}\n",
    "next_w, _ = sgd_momentum(w, dw, config=config)\n",
    "\n",
    "expected_next_w = np.asarray([\n",
    "  [ 0.1406,      0.20738947,  0.27417895,  0.34096842,  0.40775789],\n",
    "  [ 0.47454737,  0.54133684,  0.60812632,  0.67491579,  0.74170526],\n",
    "  [ 0.80849474,  0.87528421,  0.94207368,  1.00886316,  1.07565263],\n",
    "  [ 1.14244211,  1.20923158,  1.27602105,  1.34281053,  1.4096    ]])\n",
    "expected_velocity = np.asarray([\n",
    "  [ 0.5406,      0.55475789,  0.56891579, 0.58307368,  0.59723158],\n",
    "  [ 0.61138947,  0.62554737,  0.63970526,  0.65386316,  0.66802105],\n",
    "  [ 0.68217895,  0.69633684,  0.71049474,  0.72465263,  0.73881053],\n",
    "  [ 0.75296842,  0.76712632,  0.78128421,  0.79544211,  0.8096    ]])\n",
    "\n",
    "# Should see relative errors around e-8 or less\n",
    "print('next_w error: ', rel_error(next_w, expected_next_w))\n",
    "print('velocity error: ', rel_error(expected_velocity, config['velocity']))"
   ]
  },
  {
   "cell_type": "markdown",
   "metadata": {},
   "source": [
    "Once you have done so, run the following to train a six-layer network with both SGD and SGD+momentum. You should see the SGD+momentum update rule converge faster."
   ]
  },
  {
   "cell_type": "code",
   "execution_count": 16,
   "metadata": {
    "scrolled": false
   },
   "outputs": [
    {
     "name": "stdout",
     "output_type": "stream",
     "text": [
      "running with  sgd\n",
      "(Iteration 1 / 200) loss: 2.559978\n",
      "(Epoch 0 / 5) train acc: 0.104000; val_acc: 0.107000\n",
      "(Iteration 11 / 200) loss: 2.356069\n",
      "(Iteration 21 / 200) loss: 2.214091\n",
      "(Iteration 31 / 200) loss: 2.205928\n",
      "(Epoch 1 / 5) train acc: 0.225000; val_acc: 0.193000\n",
      "(Iteration 41 / 200) loss: 2.132095\n",
      "(Iteration 51 / 200) loss: 2.118950\n",
      "(Iteration 61 / 200) loss: 2.116443\n",
      "(Iteration 71 / 200) loss: 2.132549\n",
      "(Epoch 2 / 5) train acc: 0.298000; val_acc: 0.260000\n",
      "(Iteration 81 / 200) loss: 1.977227\n",
      "(Iteration 91 / 200) loss: 2.007528\n",
      "(Iteration 101 / 200) loss: 2.004762\n",
      "(Iteration 111 / 200) loss: 1.885342\n",
      "(Epoch 3 / 5) train acc: 0.343000; val_acc: 0.287000\n",
      "(Iteration 121 / 200) loss: 1.891516\n",
      "(Iteration 131 / 200) loss: 1.923677\n",
      "(Iteration 141 / 200) loss: 1.957744\n",
      "(Iteration 151 / 200) loss: 1.966736\n",
      "(Epoch 4 / 5) train acc: 0.322000; val_acc: 0.305000\n",
      "(Iteration 161 / 200) loss: 1.801483\n",
      "(Iteration 171 / 200) loss: 1.973780\n",
      "(Iteration 181 / 200) loss: 1.666573\n",
      "(Iteration 191 / 200) loss: 1.909494\n",
      "(Epoch 5 / 5) train acc: 0.372000; val_acc: 0.319000\n",
      "\n",
      "running with  sgd_momentum\n",
      "(Iteration 1 / 200) loss: 3.153777\n",
      "(Epoch 0 / 5) train acc: 0.099000; val_acc: 0.088000\n",
      "(Iteration 11 / 200) loss: 2.227203\n",
      "(Iteration 21 / 200) loss: 2.125706\n",
      "(Iteration 31 / 200) loss: 1.932695\n",
      "(Epoch 1 / 5) train acc: 0.307000; val_acc: 0.260000\n",
      "(Iteration 41 / 200) loss: 1.946488\n",
      "(Iteration 51 / 200) loss: 1.778583\n",
      "(Iteration 61 / 200) loss: 1.758119\n",
      "(Iteration 71 / 200) loss: 1.849137\n",
      "(Epoch 2 / 5) train acc: 0.382000; val_acc: 0.322000\n",
      "(Iteration 81 / 200) loss: 2.048671\n",
      "(Iteration 91 / 200) loss: 1.693223\n",
      "(Iteration 101 / 200) loss: 1.511693\n",
      "(Iteration 111 / 200) loss: 1.390754\n",
      "(Epoch 3 / 5) train acc: 0.458000; val_acc: 0.338000\n",
      "(Iteration 121 / 200) loss: 1.670614\n",
      "(Iteration 131 / 200) loss: 1.540272\n",
      "(Iteration 141 / 200) loss: 1.597365\n",
      "(Iteration 151 / 200) loss: 1.609851\n",
      "(Epoch 4 / 5) train acc: 0.490000; val_acc: 0.327000\n",
      "(Iteration 161 / 200) loss: 1.472687\n",
      "(Iteration 171 / 200) loss: 1.378620\n",
      "(Iteration 181 / 200) loss: 1.378175\n",
      "(Iteration 191 / 200) loss: 1.306440\n",
      "(Epoch 5 / 5) train acc: 0.529000; val_acc: 0.369000\n",
      "\n"
     ]
    },
    {
     "name": "stderr",
     "output_type": "stream",
     "text": [
      "D:\\Temp\\Anaconda\\envs\\reboot\\lib\\site-packages\\ipykernel_launcher.py:39: MatplotlibDeprecationWarning: Adding an axes using the same arguments as a previous axes currently reuses the earlier instance.  In a future version, a new instance will always be created and returned.  Meanwhile, this warning can be suppressed, and the future behavior ensured, by passing a unique label to each axes instance.\n",
      "D:\\Temp\\Anaconda\\envs\\reboot\\lib\\site-packages\\ipykernel_launcher.py:42: MatplotlibDeprecationWarning: Adding an axes using the same arguments as a previous axes currently reuses the earlier instance.  In a future version, a new instance will always be created and returned.  Meanwhile, this warning can be suppressed, and the future behavior ensured, by passing a unique label to each axes instance.\n",
      "D:\\Temp\\Anaconda\\envs\\reboot\\lib\\site-packages\\ipykernel_launcher.py:45: MatplotlibDeprecationWarning: Adding an axes using the same arguments as a previous axes currently reuses the earlier instance.  In a future version, a new instance will always be created and returned.  Meanwhile, this warning can be suppressed, and the future behavior ensured, by passing a unique label to each axes instance.\n",
      "D:\\Temp\\Anaconda\\envs\\reboot\\lib\\site-packages\\ipykernel_launcher.py:49: MatplotlibDeprecationWarning: Adding an axes using the same arguments as a previous axes currently reuses the earlier instance.  In a future version, a new instance will always be created and returned.  Meanwhile, this warning can be suppressed, and the future behavior ensured, by passing a unique label to each axes instance.\n"
     ]
    },
    {
     "data": {
      "image/png": "[encoded data removed]",
      "text/plain": [
       "<Figure size 1080x1080 with 3 Axes>"
      ]
     },
     "metadata": {
      "needs_background": "light"
     },
     "output_type": "display_data"
    }
   ],
   "source": [
    "num_train = 4000\n",
    "small_data = {\n",
    "  'X_train': data['X_train'][:num_train],\n",
    "  'y_train': data['y_train'][:num_train],\n",
    "  'X_val': data['X_val'],\n",
    "  'y_val': data['y_val'],\n",
    "}\n",
    "\n",
    "solvers = {}\n",
    "\n",
    "for update_rule in ['sgd', 'sgd_momentum']:\n",
    "  print('running with ', update_rule)\n",
    "  model = FullyConnectedNet([100, 100, 100, 100, 100], weight_scale=5e-2)\n",
    "\n",
    "  solver = Solver(model, small_data,\n",
    "                  num_epochs=5, batch_size=100,\n",
    "                  update_rule=update_rule,\n",
    "                  optim_config={\n",
    "                    'learning_rate': 5e-3,\n",
    "                  },\n",
    "                  verbose=True)\n",
    "  solvers[update_rule] = solver\n",
    "  solver.train()\n",
    "  print()\n",
    "\n",
    "plt.subplot(3, 1, 1)\n",
    "plt.title('Training loss')\n",
    "plt.xlabel('Iteration')\n",
    "\n",
    "plt.subplot(3, 1, 2)\n",
    "plt.title('Training accuracy')\n",
    "plt.xlabel('Epoch')\n",
    "\n",
    "plt.subplot(3, 1, 3)\n",
    "plt.title('Validation accuracy')\n",
    "plt.xlabel('Epoch')\n",
    "\n",
    "for update_rule, solver in solvers.items():\n",
    "  plt.subplot(3, 1, 1)\n",
    "  plt.plot(solver.loss_history, 'o', label=\"loss_%s\" % update_rule)\n",
    "  \n",
    "  plt.subplot(3, 1, 2)\n",
    "  plt.plot(solver.train_acc_history, '-o', label=\"train_acc_%s\" % update_rule)\n",
    "\n",
    "  plt.subplot(3, 1, 3)\n",
    "  plt.plot(solver.val_acc_history, '-o', label=\"val_acc_%s\" % update_rule)\n",
    "  \n",
    "for i in [1, 2, 3]:\n",
    "  plt.subplot(3, 1, i)\n",
    "  plt.legend(loc='upper center', ncol=4)\n",
    "plt.gcf().set_size_inches(15, 15)\n",
    "plt.show()"
   ]
  },
  {
   "cell_type": "markdown",
   "metadata": {},
   "source": [
    "# RMSProp and Adam\n",
    "RMSProp [1] and Adam [2] are update rules that set per-parameter learning rates by using a running average of the second moments of gradients.\n",
    "\n",
    "In the file `cs231n/optim.py`, implement the RMSProp update rule in the `rmsprop` function and implement the Adam update rule in the `adam` function, and check your implementations using the tests below.\n",
    "\n",
    "**NOTE:** Please implement the _complete_ Adam update rule (with the bias correction mechanism), not the first simplified version mentioned in the course notes. \n",
    "\n",
    "[1] Tijmen Tieleman and Geoffrey Hinton. \"Lecture 6.5-rmsprop: Divide the gradient by a running average of its recent magnitude.\" COURSERA: Neural Networks for Machine Learning 4 (2012).\n",
    "\n",
    "[2] Diederik Kingma and Jimmy Ba, \"Adam: A Method for Stochastic Optimization\", ICLR 2015."
   ]
  },
  {
   "cell_type": "code",
   "execution_count": 17,
   "metadata": {},
   "outputs": [
    {
     "name": "stdout",
     "output_type": "stream",
     "text": [
      "next_w error:  9.524687511038133e-08\n",
      "cache error:  2.6477955807156126e-09\n"
     ]
    }
   ],
   "source": [
    "# Test RMSProp implementation\n",
    "from cs231n.optim import rmsprop\n",
    "\n",
    "N, D = 4, 5\n",
    "w = np.linspace(-0.4, 0.6, num=N*D).reshape(N, D)\n",
    "dw = np.linspace(-0.6, 0.4, num=N*D).reshape(N, D)\n",
    "cache = np.linspace(0.6, 0.9, num=N*D).reshape(N, D)\n",
    "\n",
    "config = {'learning_rate': 1e-2, 'cache': cache}\n",
    "next_w, _ = rmsprop(w, dw, config=config)\n",
    "\n",
    "expected_next_w = np.asarray([\n",
    "  [-0.39223849, -0.34037513, -0.28849239, -0.23659121, -0.18467247],\n",
    "  [-0.132737,   -0.08078555, -0.02881884,  0.02316247,  0.07515774],\n",
    "  [ 0.12716641,  0.17918792,  0.23122175,  0.28326742,  0.33532447],\n",
    "  [ 0.38739248,  0.43947102,  0.49155973,  0.54365823,  0.59576619]])\n",
    "expected_cache = np.asarray([\n",
    "  [ 0.5976,      0.6126277,   0.6277108,   0.64284931,  0.65804321],\n",
    "  [ 0.67329252,  0.68859723,  0.70395734,  0.71937285,  0.73484377],\n",
    "  [ 0.75037008,  0.7659518,   0.78158892,  0.79728144,  0.81302936],\n",
    "  [ 0.82883269,  0.84469141,  0.86060554,  0.87657507,  0.8926    ]])\n",
    "\n",
    "# You should see relative errors around e-7 or less\n",
    "print('next_w error: ', rel_error(expected_next_w, next_w))\n",
    "print('cache error: ', rel_error(expected_cache, config['cache']))"
   ]
  },
  {
   "cell_type": "code",
   "execution_count": 18,
   "metadata": {},
   "outputs": [
    {
     "name": "stdout",
     "output_type": "stream",
     "text": [
      "next_w error:  1.1395691798535431e-07\n",
      "v error:  4.208314038113071e-09\n",
      "m error:  4.214963193114416e-09\n"
     ]
    }
   ],
   "source": [
    "# Test Adam implementation\n",
    "from cs231n.optim import adam\n",
    "\n",
    "N, D = 4, 5\n",
    "w = np.linspace(-0.4, 0.6, num=N*D).reshape(N, D)\n",
    "dw = np.linspace(-0.6, 0.4, num=N*D).reshape(N, D)\n",
    "m = np.linspace(0.6, 0.9, num=N*D).reshape(N, D)\n",
    "v = np.linspace(0.7, 0.5, num=N*D).reshape(N, D)\n",
    "\n",
    "config = {'learning_rate': 1e-2, 'm': m, 'v': v, 't': 5}\n",
    "next_w, _ = adam(w, dw, config=config)\n",
    "\n",
    "expected_next_w = np.asarray([\n",
    "  [-0.40094747, -0.34836187, -0.29577703, -0.24319299, -0.19060977],\n",
    "  [-0.1380274,  -0.08544591, -0.03286534,  0.01971428,  0.0722929],\n",
    "  [ 0.1248705,   0.17744702,  0.23002243,  0.28259667,  0.33516969],\n",
    "  [ 0.38774145,  0.44031188,  0.49288093,  0.54544852,  0.59801459]])\n",
    "expected_v = np.asarray([\n",
    "  [ 0.69966,     0.68908382,  0.67851319,  0.66794809,  0.65738853,],\n",
    "  [ 0.64683452,  0.63628604,  0.6257431,   0.61520571,  0.60467385,],\n",
    "  [ 0.59414753,  0.58362676,  0.57311152,  0.56260183,  0.55209767,],\n",
    "  [ 0.54159906,  0.53110598,  0.52061845,  0.51013645,  0.49966,   ]])\n",
    "expected_m = np.asarray([\n",
    "  [ 0.48,        0.49947368,  0.51894737,  0.53842105,  0.55789474],\n",
    "  [ 0.57736842,  0.59684211,  0.61631579,  0.63578947,  0.65526316],\n",
    "  [ 0.67473684,  0.69421053,  0.71368421,  0.73315789,  0.75263158],\n",
    "  [ 0.77210526,  0.79157895,  0.81105263,  0.83052632,  0.85      ]])\n",
    "\n",
    "# You should see relative errors around e-7 or less\n",
    "print('next_w error: ', rel_error(expected_next_w, next_w))\n",
    "print('v error: ', rel_error(expected_v, config['v']))\n",
    "print('m error: ', rel_error(expected_m, config['m']))"
   ]
  },
  {
   "cell_type": "markdown",
   "metadata": {},
   "source": [
    "Once you have debugged your RMSProp and Adam implementations, run the following to train a pair of deep networks using these new update rules:"
   ]
  },
  {
   "cell_type": "code",
   "execution_count": 19,
   "metadata": {},
   "outputs": [
    {
     "name": "stdout",
     "output_type": "stream",
     "text": [
      "running with  adam\n",
      "(Iteration 1 / 200) loss: 3.476928\n",
      "(Epoch 0 / 5) train acc: 0.126000; val_acc: 0.110000\n",
      "(Iteration 11 / 200) loss: 2.027712\n",
      "(Iteration 21 / 200) loss: 2.183358\n",
      "(Iteration 31 / 200) loss: 1.744257\n",
      "(Epoch 1 / 5) train acc: 0.363000; val_acc: 0.330000\n",
      "(Iteration 41 / 200) loss: 1.707951\n",
      "(Iteration 51 / 200) loss: 1.703835\n",
      "(Iteration 61 / 200) loss: 2.094758\n",
      "(Iteration 71 / 200) loss: 1.505558\n",
      "(Epoch 2 / 5) train acc: 0.419000; val_acc: 0.362000\n",
      "(Iteration 81 / 200) loss: 1.594429\n",
      "(Iteration 91 / 200) loss: 1.519017\n",
      "(Iteration 101 / 200) loss: 1.368522\n",
      "(Iteration 111 / 200) loss: 1.470400\n",
      "(Epoch 3 / 5) train acc: 0.460000; val_acc: 0.378000\n",
      "(Iteration 121 / 200) loss: 1.199064\n",
      "(Iteration 131 / 200) loss: 1.464705\n",
      "(Iteration 141 / 200) loss: 1.359863\n",
      "(Iteration 151 / 200) loss: 1.415069\n",
      "(Epoch 4 / 5) train acc: 0.521000; val_acc: 0.374000\n",
      "(Iteration 161 / 200) loss: 1.382818\n",
      "(Iteration 171 / 200) loss: 1.359900\n",
      "(Iteration 181 / 200) loss: 1.095947\n",
      "(Iteration 191 / 200) loss: 1.243088\n",
      "(Epoch 5 / 5) train acc: 0.572000; val_acc: 0.382000\n",
      "\n",
      "running with  rmsprop\n",
      "(Iteration 1 / 200) loss: 2.589166\n",
      "(Epoch 0 / 5) train acc: 0.119000; val_acc: 0.146000\n",
      "(Iteration 11 / 200) loss: 2.032921\n",
      "(Iteration 21 / 200) loss: 1.897278\n",
      "(Iteration 31 / 200) loss: 1.770793\n",
      "(Epoch 1 / 5) train acc: 0.381000; val_acc: 0.320000\n",
      "(Iteration 41 / 200) loss: 1.895731\n",
      "(Iteration 51 / 200) loss: 1.681091\n",
      "(Iteration 61 / 200) loss: 1.487204\n",
      "(Iteration 71 / 200) loss: 1.629973\n",
      "(Epoch 2 / 5) train acc: 0.429000; val_acc: 0.350000\n",
      "(Iteration 81 / 200) loss: 1.506686\n",
      "(Iteration 91 / 200) loss: 1.610742\n",
      "(Iteration 101 / 200) loss: 1.486124\n",
      "(Iteration 111 / 200) loss: 1.559454\n",
      "(Epoch 3 / 5) train acc: 0.492000; val_acc: 0.361000\n",
      "(Iteration 121 / 200) loss: 1.497406\n",
      "(Iteration 131 / 200) loss: 1.530736\n",
      "(Iteration 141 / 200) loss: 1.550958\n",
      "(Iteration 151 / 200) loss: 1.652026\n",
      "(Epoch 4 / 5) train acc: 0.531000; val_acc: 0.359000\n",
      "(Iteration 161 / 200) loss: 1.600752\n",
      "(Iteration 171 / 200) loss: 1.400347\n",
      "(Iteration 181 / 200) loss: 1.509237\n",
      "(Iteration 191 / 200) loss: 1.368884\n",
      "(Epoch 5 / 5) train acc: 0.530000; val_acc: 0.373000\n",
      "\n"
     ]
    },
    {
     "name": "stderr",
     "output_type": "stream",
     "text": [
      "D:\\Temp\\Anaconda\\envs\\reboot\\lib\\site-packages\\ipykernel_launcher.py:30: MatplotlibDeprecationWarning: Adding an axes using the same arguments as a previous axes currently reuses the earlier instance.  In a future version, a new instance will always be created and returned.  Meanwhile, this warning can be suppressed, and the future behavior ensured, by passing a unique label to each axes instance.\n",
      "D:\\Temp\\Anaconda\\envs\\reboot\\lib\\site-packages\\ipykernel_launcher.py:33: MatplotlibDeprecationWarning: Adding an axes using the same arguments as a previous axes currently reuses the earlier instance.  In a future version, a new instance will always be created and returned.  Meanwhile, this warning can be suppressed, and the future behavior ensured, by passing a unique label to each axes instance.\n",
      "D:\\Temp\\Anaconda\\envs\\reboot\\lib\\site-packages\\ipykernel_launcher.py:36: MatplotlibDeprecationWarning: Adding an axes using the same arguments as a previous axes currently reuses the earlier instance.  In a future version, a new instance will always be created and returned.  Meanwhile, this warning can be suppressed, and the future behavior ensured, by passing a unique label to each axes instance.\n",
      "D:\\Temp\\Anaconda\\envs\\reboot\\lib\\site-packages\\ipykernel_launcher.py:40: MatplotlibDeprecationWarning: Adding an axes using the same arguments as a previous axes currently reuses the earlier instance.  In a future version, a new instance will always be created and returned.  Meanwhile, this warning can be suppressed, and the future behavior ensured, by passing a unique label to each axes instance.\n"
     ]
    },
    {
     "data": {
      "image/png": "[encoded data removed]",
      "text/plain": [
       "<Figure size 1080x1080 with 3 Axes>"
      ]
     },
     "metadata": {
      "needs_background": "light"
     },
     "output_type": "display_data"
    }
   ],
   "source": [
    "learning_rates = {'rmsprop': 1e-4, 'adam': 1e-3}\n",
    "for update_rule in ['adam', 'rmsprop']:\n",
    "  print('running with ', update_rule)\n",
    "  model = FullyConnectedNet([100, 100, 100, 100, 100], weight_scale=5e-2)\n",
    "\n",
    "  solver = Solver(model, small_data,\n",
    "                  num_epochs=5, batch_size=100,\n",
    "                  update_rule=update_rule,\n",
    "                  optim_config={\n",
    "                    'learning_rate': learning_rates[update_rule]\n",
    "                  },\n",
    "                  verbose=True)\n",
    "  solvers[update_rule] = solver\n",
    "  solver.train()\n",
    "  print()\n",
    "\n",
    "plt.subplot(3, 1, 1)\n",
    "plt.title('Training loss')\n",
    "plt.xlabel('Iteration')\n",
    "\n",
    "plt.subplot(3, 1, 2)\n",
    "plt.title('Training accuracy')\n",
    "plt.xlabel('Epoch')\n",
    "\n",
    "plt.subplot(3, 1, 3)\n",
    "plt.title('Validation accuracy')\n",
    "plt.xlabel('Epoch')\n",
    "\n",
    "for update_rule, solver in list(solvers.items()):\n",
    "  plt.subplot(3, 1, 1)\n",
    "  plt.plot(solver.loss_history, 'o', label=update_rule)\n",
    "  \n",
    "  plt.subplot(3, 1, 2)\n",
    "  plt.plot(solver.train_acc_history, '-o', label=update_rule)\n",
    "\n",
    "  plt.subplot(3, 1, 3)\n",
    "  plt.plot(solver.val_acc_history, '-o', label=update_rule)\n",
    "  \n",
    "for i in [1, 2, 3]:\n",
    "  plt.subplot(3, 1, i)\n",
    "  plt.legend(loc='upper center', ncol=4)\n",
    "plt.gcf().set_size_inches(15, 15)\n",
    "plt.show()"
   ]
  },
  {
   "cell_type": "markdown",
   "metadata": {
    "tags": [
     "pdf-inline"
    ]
   },
   "source": [
    "## Inline Question 3:\n",
    "\n",
    "AdaGrad, like Adam, is a per-parameter optimization method that uses the following update rule:\n",
    "\n",
    "```\n",
    "cache += dw**2\n",
    "w += - learning_rate * dw / (np.sqrt(cache) + eps)\n",
    "```\n",
    "\n",
    "John notices that when he was training a network with AdaGrad that the updates became very small, and that his network was learning slowly. Using your knowledge of the AdaGrad update rule, why do you think the updates would become very small? Would Adam have the same issue?\n",
    "\n",
    "\n",
    "## Answer: \n",
    "[FILL THIS IN]\n"
   ]
  },
  {
   "cell_type": "markdown",
   "metadata": {},
   "source": [
    "# Train a good model!\n",
    "Train the best fully-connected model that you can on CIFAR-10, storing your best model in the `best_model` variable. We require you to get at least 50% accuracy on the validation set using a fully-connected net.\n",
    "\n",
    "If you are careful it should be possible to get accuracies above 55%, but we don't require it for this part and won't assign extra credit for doing so. Later in the assignment we will ask you to train the best convolutional network that you can on CIFAR-10, and we would prefer that you spend your effort working on convolutional nets rather than fully-connected nets.\n",
    "\n",
    "You might find it useful to complete the `BatchNormalization.ipynb` and `Dropout.ipynb` notebooks before completing this part, since those techniques can help you train powerful models."
   ]
  },
  {
   "cell_type": "code",
   "execution_count": 20,
   "metadata": {
    "scrolled": false
   },
   "outputs": [
    {
     "name": "stdout",
     "output_type": "stream",
     "text": [
      "(Iteration 1 / 2450) loss: 2.783151\n",
      "(Epoch 0 / 10) train acc: 0.154000; val_acc: 0.138000\n",
      "(Iteration 11 / 2450) loss: 1.986060\n",
      "(Iteration 21 / 2450) loss: 1.906247\n",
      "(Iteration 31 / 2450) loss: 1.907953\n",
      "(Iteration 41 / 2450) loss: 1.925795\n",
      "(Iteration 51 / 2450) loss: 1.775541\n",
      "(Iteration 61 / 2450) loss: 1.801569\n",
      "(Iteration 71 / 2450) loss: 1.742155\n",
      "(Iteration 81 / 2450) loss: 1.826235\n",
      "(Iteration 91 / 2450) loss: 1.764412\n",
      "(Iteration 101 / 2450) loss: 1.714852\n",
      "(Iteration 111 / 2450) loss: 1.592358\n",
      "(Iteration 121 / 2450) loss: 1.671952\n",
      "(Iteration 131 / 2450) loss: 1.705109\n",
      "(Iteration 141 / 2450) loss: 1.690980\n",
      "(Iteration 151 / 2450) loss: 1.693001\n",
      "(Iteration 161 / 2450) loss: 1.805390\n",
      "(Iteration 171 / 2450) loss: 1.660668\n",
      "(Iteration 181 / 2450) loss: 1.626552\n",
      "(Iteration 191 / 2450) loss: 1.592012\n",
      "(Iteration 201 / 2450) loss: 1.657770\n",
      "(Iteration 211 / 2450) loss: 1.700764\n",
      "(Iteration 221 / 2450) loss: 1.602075\n",
      "(Iteration 231 / 2450) loss: 1.608676\n",
      "(Iteration 241 / 2450) loss: 1.502765\n",
      "(Epoch 1 / 10) train acc: 0.460000; val_acc: 0.432000\n",
      "(Iteration 251 / 2450) loss: 1.615099\n",
      "(Iteration 261 / 2450) loss: 1.556753\n",
      "(Iteration 271 / 2450) loss: 1.681411\n",
      "(Iteration 281 / 2450) loss: 1.583391\n",
      "(Iteration 291 / 2450) loss: 1.502814\n",
      "(Iteration 301 / 2450) loss: 1.599427\n",
      "(Iteration 311 / 2450) loss: 1.553279\n",
      "(Iteration 321 / 2450) loss: 1.435669\n",
      "(Iteration 331 / 2450) loss: 1.528228\n",
      "(Iteration 341 / 2450) loss: 1.627635\n",
      "(Iteration 351 / 2450) loss: 1.452497\n",
      "(Iteration 361 / 2450) loss: 1.502377\n",
      "(Iteration 371 / 2450) loss: 1.536724\n",
      "(Iteration 381 / 2450) loss: 1.654770\n",
      "(Iteration 391 / 2450) loss: 1.600861\n",
      "(Iteration 401 / 2450) loss: 1.430513\n",
      "(Iteration 411 / 2450) loss: 1.449815\n",
      "(Iteration 421 / 2450) loss: 1.404928\n",
      "(Iteration 431 / 2450) loss: 1.403735\n",
      "(Iteration 441 / 2450) loss: 1.512577\n",
      "(Iteration 451 / 2450) loss: 1.463099\n",
      "(Iteration 461 / 2450) loss: 1.525391\n",
      "(Iteration 471 / 2450) loss: 1.477678\n",
      "(Iteration 481 / 2450) loss: 1.292055\n",
      "(Epoch 2 / 10) train acc: 0.504000; val_acc: 0.445000\n",
      "(Iteration 491 / 2450) loss: 1.505047\n",
      "(Iteration 501 / 2450) loss: 1.352605\n",
      "(Iteration 511 / 2450) loss: 1.499756\n",
      "(Iteration 521 / 2450) loss: 1.357694\n",
      "(Iteration 531 / 2450) loss: 1.392177\n",
      "(Iteration 541 / 2450) loss: 1.519374\n",
      "(Iteration 551 / 2450) loss: 1.461190\n",
      "(Iteration 561 / 2450) loss: 1.487655\n",
      "(Iteration 571 / 2450) loss: 1.383608\n",
      "(Iteration 581 / 2450) loss: 1.423504\n",
      "(Iteration 591 / 2450) loss: 1.397238\n",
      "(Iteration 601 / 2450) loss: 1.438993\n",
      "(Iteration 611 / 2450) loss: 1.263259\n",
      "(Iteration 621 / 2450) loss: 1.528375\n",
      "(Iteration 631 / 2450) loss: 1.459189\n",
      "(Iteration 641 / 2450) loss: 1.267641\n",
      "(Iteration 651 / 2450) loss: 1.491729\n",
      "(Iteration 661 / 2450) loss: 1.345457\n",
      "(Iteration 671 / 2450) loss: 1.320773\n",
      "(Iteration 681 / 2450) loss: 1.413448\n",
      "(Iteration 691 / 2450) loss: 1.287266\n",
      "(Iteration 701 / 2450) loss: 1.458964\n",
      "(Iteration 711 / 2450) loss: 1.281768\n",
      "(Iteration 721 / 2450) loss: 1.242598\n",
      "(Iteration 731 / 2450) loss: 1.327352\n",
      "(Epoch 3 / 10) train acc: 0.532000; val_acc: 0.475000\n",
      "(Iteration 741 / 2450) loss: 1.350682\n",
      "(Iteration 751 / 2450) loss: 1.455368\n",
      "(Iteration 761 / 2450) loss: 1.300197\n",
      "(Iteration 771 / 2450) loss: 1.342231\n",
      "(Iteration 781 / 2450) loss: 1.332474\n",
      "(Iteration 791 / 2450) loss: 1.380312\n",
      "(Iteration 801 / 2450) loss: 1.360204\n",
      "(Iteration 811 / 2450) loss: 1.277514\n",
      "(Iteration 821 / 2450) loss: 1.372622\n",
      "(Iteration 831 / 2450) loss: 1.482003\n",
      "(Iteration 841 / 2450) loss: 1.270101\n",
      "(Iteration 851 / 2450) loss: 1.308132\n",
      "(Iteration 861 / 2450) loss: 1.304459\n",
      "(Iteration 871 / 2450) loss: 1.313700\n",
      "(Iteration 881 / 2450) loss: 1.300172\n",
      "(Iteration 891 / 2450) loss: 1.364873\n",
      "(Iteration 901 / 2450) loss: 1.281826\n",
      "(Iteration 911 / 2450) loss: 1.291857\n",
      "(Iteration 921 / 2450) loss: 1.378480\n",
      "(Iteration 931 / 2450) loss: 1.110404\n",
      "(Iteration 941 / 2450) loss: 1.248466\n",
      "(Iteration 951 / 2450) loss: 1.236755\n",
      "(Iteration 961 / 2450) loss: 1.263349\n",
      "(Iteration 971 / 2450) loss: 1.297821\n",
      "(Epoch 4 / 10) train acc: 0.539000; val_acc: 0.471000\n",
      "(Iteration 981 / 2450) loss: 1.215341\n",
      "(Iteration 991 / 2450) loss: 1.350711\n",
      "(Iteration 1001 / 2450) loss: 1.408480\n",
      "(Iteration 1011 / 2450) loss: 1.310543\n",
      "(Iteration 1021 / 2450) loss: 1.278745\n",
      "(Iteration 1031 / 2450) loss: 1.239296\n",
      "(Iteration 1041 / 2450) loss: 1.333728\n",
      "(Iteration 1051 / 2450) loss: 1.277914\n",
      "(Iteration 1061 / 2450) loss: 1.187025\n",
      "(Iteration 1071 / 2450) loss: 1.305111\n",
      "(Iteration 1081 / 2450) loss: 1.279535\n",
      "(Iteration 1091 / 2450) loss: 1.374123\n",
      "(Iteration 1101 / 2450) loss: 1.262522\n",
      "(Iteration 1111 / 2450) loss: 1.528367\n",
      "(Iteration 1121 / 2450) loss: 1.413190\n",
      "(Iteration 1131 / 2450) loss: 1.310787\n",
      "(Iteration 1141 / 2450) loss: 1.314151\n",
      "(Iteration 1151 / 2450) loss: 1.344783\n",
      "(Iteration 1161 / 2450) loss: 1.249654\n",
      "(Iteration 1171 / 2450) loss: 1.204805\n",
      "(Iteration 1181 / 2450) loss: 1.343809\n",
      "(Iteration 1191 / 2450) loss: 1.379059\n",
      "(Iteration 1201 / 2450) loss: 1.348156\n",
      "(Iteration 1211 / 2450) loss: 1.203889\n",
      "(Iteration 1221 / 2450) loss: 1.203313\n",
      "(Epoch 5 / 10) train acc: 0.562000; val_acc: 0.473000\n",
      "(Iteration 1231 / 2450) loss: 1.217737\n",
      "(Iteration 1241 / 2450) loss: 1.219567\n",
      "(Iteration 1251 / 2450) loss: 1.219747\n",
      "(Iteration 1261 / 2450) loss: 1.272046\n",
      "(Iteration 1271 / 2450) loss: 1.258013\n",
      "(Iteration 1281 / 2450) loss: 1.431706\n",
      "(Iteration 1291 / 2450) loss: 1.263658\n",
      "(Iteration 1301 / 2450) loss: 1.156433\n",
      "(Iteration 1311 / 2450) loss: 1.247288\n",
      "(Iteration 1321 / 2450) loss: 1.285381\n",
      "(Iteration 1331 / 2450) loss: 1.161895\n",
      "(Iteration 1341 / 2450) loss: 1.145701\n",
      "(Iteration 1351 / 2450) loss: 1.237086\n",
      "(Iteration 1361 / 2450) loss: 1.241476\n",
      "(Iteration 1371 / 2450) loss: 1.240637\n",
      "(Iteration 1381 / 2450) loss: 1.300048\n",
      "(Iteration 1391 / 2450) loss: 1.249500\n",
      "(Iteration 1401 / 2450) loss: 1.135090\n",
      "(Iteration 1411 / 2450) loss: 1.309629\n",
      "(Iteration 1421 / 2450) loss: 1.224068\n",
      "(Iteration 1431 / 2450) loss: 1.274108\n",
      "(Iteration 1441 / 2450) loss: 1.198981\n",
      "(Iteration 1451 / 2450) loss: 1.266884\n",
      "(Iteration 1461 / 2450) loss: 1.105902\n",
      "(Epoch 6 / 10) train acc: 0.579000; val_acc: 0.491000\n",
      "(Iteration 1471 / 2450) loss: 1.246912\n",
      "(Iteration 1481 / 2450) loss: 1.363239\n",
      "(Iteration 1491 / 2450) loss: 1.198149\n",
      "(Iteration 1501 / 2450) loss: 1.190704\n",
      "(Iteration 1511 / 2450) loss: 1.201771\n",
      "(Iteration 1521 / 2450) loss: 1.184256\n",
      "(Iteration 1531 / 2450) loss: 1.215182\n",
      "(Iteration 1541 / 2450) loss: 1.085399\n",
      "(Iteration 1551 / 2450) loss: 1.245407\n",
      "(Iteration 1561 / 2450) loss: 1.217291\n",
      "(Iteration 1571 / 2450) loss: 1.276057\n",
      "(Iteration 1581 / 2450) loss: 1.204823\n",
      "(Iteration 1591 / 2450) loss: 1.219013\n",
      "(Iteration 1601 / 2450) loss: 1.268462\n",
      "(Iteration 1611 / 2450) loss: 1.099074\n",
      "(Iteration 1621 / 2450) loss: 1.221634\n",
      "(Iteration 1631 / 2450) loss: 1.235579\n",
      "(Iteration 1641 / 2450) loss: 1.252903\n",
      "(Iteration 1651 / 2450) loss: 1.197000\n",
      "(Iteration 1661 / 2450) loss: 1.323951\n",
      "(Iteration 1671 / 2450) loss: 1.159953\n",
      "(Iteration 1681 / 2450) loss: 1.280975\n",
      "(Iteration 1691 / 2450) loss: 1.375670\n",
      "(Iteration 1701 / 2450) loss: 1.127488\n",
      "(Iteration 1711 / 2450) loss: 1.161190\n",
      "(Epoch 7 / 10) train acc: 0.569000; val_acc: 0.480000\n",
      "(Iteration 1721 / 2450) loss: 1.155785\n",
      "(Iteration 1731 / 2450) loss: 1.151743\n",
      "(Iteration 1741 / 2450) loss: 1.323246\n",
      "(Iteration 1751 / 2450) loss: 1.185630\n",
      "(Iteration 1761 / 2450) loss: 1.108395\n",
      "(Iteration 1771 / 2450) loss: 1.155890\n",
      "(Iteration 1781 / 2450) loss: 1.163277\n",
      "(Iteration 1791 / 2450) loss: 1.161141\n",
      "(Iteration 1801 / 2450) loss: 1.127206\n",
      "(Iteration 1811 / 2450) loss: 1.035897\n",
      "(Iteration 1821 / 2450) loss: 1.328316\n",
      "(Iteration 1831 / 2450) loss: 1.221968\n",
      "(Iteration 1841 / 2450) loss: 1.301687\n",
      "(Iteration 1851 / 2450) loss: 1.184075\n",
      "(Iteration 1861 / 2450) loss: 1.069208\n",
      "(Iteration 1871 / 2450) loss: 1.111298\n",
      "(Iteration 1881 / 2450) loss: 1.247012\n",
      "(Iteration 1891 / 2450) loss: 1.207162\n",
      "(Iteration 1901 / 2450) loss: 1.163765\n",
      "(Iteration 1911 / 2450) loss: 1.223717\n",
      "(Iteration 1921 / 2450) loss: 1.224292\n",
      "(Iteration 1931 / 2450) loss: 1.019197\n",
      "(Iteration 1941 / 2450) loss: 1.061249\n",
      "(Iteration 1951 / 2450) loss: 1.089414\n",
      "(Epoch 8 / 10) train acc: 0.608000; val_acc: 0.527000\n",
      "(Iteration 1961 / 2450) loss: 1.144070\n",
      "(Iteration 1971 / 2450) loss: 1.054282\n",
      "(Iteration 1981 / 2450) loss: 1.076897\n",
      "(Iteration 1991 / 2450) loss: 1.124974\n",
      "(Iteration 2001 / 2450) loss: 1.167941\n"
     ]
    },
    {
     "name": "stdout",
     "output_type": "stream",
     "text": [
      "(Iteration 2011 / 2450) loss: 1.201892\n",
      "(Iteration 2021 / 2450) loss: 1.173561\n",
      "(Iteration 2031 / 2450) loss: 1.156871\n",
      "(Iteration 2041 / 2450) loss: 1.061334\n",
      "(Iteration 2051 / 2450) loss: 1.191100\n",
      "(Iteration 2061 / 2450) loss: 1.069516\n",
      "(Iteration 2071 / 2450) loss: 1.075778\n",
      "(Iteration 2081 / 2450) loss: 0.978589\n",
      "(Iteration 2091 / 2450) loss: 1.096920\n",
      "(Iteration 2101 / 2450) loss: 1.131648\n",
      "(Iteration 2111 / 2450) loss: 0.982578\n",
      "(Iteration 2121 / 2450) loss: 1.125667\n",
      "(Iteration 2131 / 2450) loss: 1.176894\n",
      "(Iteration 2141 / 2450) loss: 1.050003\n",
      "(Iteration 2151 / 2450) loss: 1.036132\n",
      "(Iteration 2161 / 2450) loss: 1.131717\n",
      "(Iteration 2171 / 2450) loss: 1.054839\n",
      "(Iteration 2181 / 2450) loss: 1.080949\n",
      "(Iteration 2191 / 2450) loss: 1.248320\n",
      "(Iteration 2201 / 2450) loss: 1.144937\n",
      "(Epoch 9 / 10) train acc: 0.601000; val_acc: 0.509000\n",
      "(Iteration 2211 / 2450) loss: 1.130967\n",
      "(Iteration 2221 / 2450) loss: 1.111782\n",
      "(Iteration 2231 / 2450) loss: 1.213360\n",
      "(Iteration 2241 / 2450) loss: 1.158660\n",
      "(Iteration 2251 / 2450) loss: 1.088917\n",
      "(Iteration 2261 / 2450) loss: 1.061727\n",
      "(Iteration 2271 / 2450) loss: 1.053137\n",
      "(Iteration 2281 / 2450) loss: 1.215884\n",
      "(Iteration 2291 / 2450) loss: 1.194282\n",
      "(Iteration 2301 / 2450) loss: 0.962926\n",
      "(Iteration 2311 / 2450) loss: 1.362994\n",
      "(Iteration 2321 / 2450) loss: 1.050567\n",
      "(Iteration 2331 / 2450) loss: 1.079273\n",
      "(Iteration 2341 / 2450) loss: 1.100789\n",
      "(Iteration 2351 / 2450) loss: 1.045642\n",
      "(Iteration 2361 / 2450) loss: 0.972555\n",
      "(Iteration 2371 / 2450) loss: 1.226360\n",
      "(Iteration 2381 / 2450) loss: 1.159570\n",
      "(Iteration 2391 / 2450) loss: 1.176668\n",
      "(Iteration 2401 / 2450) loss: 1.056637\n",
      "(Iteration 2411 / 2450) loss: 1.051966\n",
      "(Iteration 2421 / 2450) loss: 1.177659\n",
      "(Iteration 2431 / 2450) loss: 1.091745\n",
      "(Iteration 2441 / 2450) loss: 1.139724\n",
      "(Epoch 10 / 10) train acc: 0.627000; val_acc: 0.509000\n",
      "0.527\n"
     ]
    }
   ],
   "source": [
    "best_model = None\n",
    "################################################################################\n",
    "# TODO: Train the best FullyConnectedNet that you can on CIFAR-10. You might   #\n",
    "# find batch/layer normalization and dropout useful. Store your best model in  #\n",
    "# the best_model variable.                                                     #\n",
    "################################################################################\n",
    "# *****START OF YOUR CODE (DO NOT DELETE/MODIFY THIS LINE)*****\n",
    "\n",
    "update_rule = 'adam'\n",
    "learning_rate = 1e-3\n",
    "model = FullyConnectedNet([100, 100, 100, 100, 100], weight_scale=5e-2, reg=1e-5)\n",
    "solver = Solver(model, data,\n",
    "                num_epochs=10, batch_size=200,\n",
    "                update_rule=update_rule,\n",
    "                optim_config={\n",
    "                    'learning_rate': learning_rate\n",
    "                },\n",
    "                verbose=True)\n",
    "solver.train()\n",
    "acc = solver.check_accuracy(data['X_val'], data['y_val'])\n",
    "print(acc)\n",
    "best_model = model\n",
    "\n",
    "# *****END OF YOUR CODE (DO NOT DELETE/MODIFY THIS LINE)*****\n",
    "################################################################################\n",
    "#                              END OF YOUR CODE                                #\n",
    "################################################################################"
   ]
  },
  {
   "cell_type": "markdown",
   "metadata": {},
   "source": [
    "# Test your model!\n",
    "Run your best model on the validation and test sets. You should achieve above 50% accuracy on the validation set."
   ]
  },
  {
   "cell_type": "code",
   "execution_count": 21,
   "metadata": {},
   "outputs": [
    {
     "name": "stdout",
     "output_type": "stream",
     "text": [
      "Validation set accuracy:  0.527\n",
      "Test set accuracy:  0.514\n"
     ]
    }
   ],
   "source": [
    "y_test_pred = np.argmax(best_model.loss(data['X_test']), axis=1)\n",
    "y_val_pred = np.argmax(best_model.loss(data['X_val']), axis=1)\n",
    "print('Validation set accuracy: ', (y_val_pred == data['y_val']).mean())\n",
    "print('Test set accuracy: ', (y_test_pred == data['y_test']).mean())"
   ]
  }
 ],
 "metadata": {
  "kernelspec": {
   "display_name": "Python [conda env:reboot]",
   "language": "python",
   "name": "conda-env-reboot-py"
  },
  "language_info": {
   "codemirror_mode": {
    "name": "ipython",
    "version": 3
   },
   "file_extension": ".py",
   "mimetype": "text/x-python",
   "name": "python",
   "nbconvert_exporter": "python",
   "pygments_lexer": "ipython3",
   "version": "3.7.4"
  }
 },
 "nbformat": 4,
 "nbformat_minor": 2
}
